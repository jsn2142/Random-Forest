{
 "cells": [
  {
   "cell_type": "code",
   "execution_count": 17,
   "metadata": {},
   "outputs": [
    {
     "name": "stdout",
     "output_type": "stream",
     "text": [
      "Values of rating after conversion: \n",
      "[0 1 1 ... 1 0 1]\n"
     ]
    }
   ],
   "source": [
    "import pandas as pd  \n",
    "import numpy as np \n",
    "dataset = pd.read_csv(\"ratings_small.csv\")  \n",
    "\n",
    "dataset[\"ratingNew\"]=np.where(dataset[\"rating\"]<=2.5,0,1)\n",
    "dataset=dataset[[\n",
    "    \"userId\",\n",
    "    \"movieId\",\n",
    "    \"ratingNew\"\n",
    "]].dropna(axis=0, how='any') \n",
    " \n",
    "X = dataset.iloc[:, 0:2].values  \n",
    "y = dataset.iloc[:, 2].values\n",
    "\n",
    "print(\"Values of rating after conversion: \")\n",
    "print(y)"
   ]
  },
  {
   "cell_type": "code",
   "execution_count": 22,
   "metadata": {},
   "outputs": [
    {
     "name": "stdout",
     "output_type": "stream",
     "text": [
      "[[ 1737  4076]\n",
      " [ 3107 24082]]\n",
      "              precision    recall  f1-score   support\n",
      "\n",
      "           0       0.36      0.30      0.33      5813\n",
      "           1       0.86      0.89      0.87     27189\n",
      "\n",
      "   micro avg       0.78      0.78      0.78     33002\n",
      "   macro avg       0.61      0.59      0.60     33002\n",
      "weighted avg       0.77      0.78      0.77     33002\n",
      "\n",
      "Accuracy: \n",
      "78.23 %\n"
     ]
    }
   ],
   "source": [
    "from sklearn.model_selection import train_test_split\n",
    "\n",
    "X_train, X_test, y_train, y_test = train_test_split(X, y, test_size=0.33, random_state=10) \n",
    "\n",
    "from sklearn.ensemble import RandomForestRegressor\n",
    "\n",
    "regressor = RandomForestRegressor(n_estimators=20, random_state=10)  \n",
    "regressor.fit(X_train, y_train)  \n",
    "predict_y = regressor.predict(X_test)\n",
    "\n",
    "from sklearn.metrics import classification_report, confusion_matrix, accuracy_score\n",
    "\n",
    "# precision, recall, f1-score, support\n",
    "print(confusion_matrix(y_test,predict_y.round()))  \n",
    "print(classification_report(y_test,predict_y.round()))  \n",
    "print(\"Accuracy: \")\n",
    "print(round(accuracy_score(y_test,predict_y.round())*100,2),\"%\")"
   ]
  },
  {
   "cell_type": "code",
   "execution_count": 23,
   "metadata": {},
   "outputs": [
    {
     "name": "stdout",
     "output_type": "stream",
     "text": [
      "Showing the predicted values for ratingNew: \n",
      "[1.   1.   0.85 ... 1.   1.   0.7 ]\n"
     ]
    }
   ],
   "source": [
    "print(\"Showing the predicted values for ratingNew: \")\n",
    "print(predict_y)"
   ]
  },
  {
   "cell_type": "code",
   "execution_count": null,
   "metadata": {},
   "outputs": [],
   "source": []
  },
  {
   "cell_type": "code",
   "execution_count": null,
   "metadata": {},
   "outputs": [],
   "source": []
  }
 ],
 "metadata": {
  "kernelspec": {
   "display_name": "Python 3",
   "language": "python",
   "name": "python3"
  },
  "language_info": {
   "codemirror_mode": {
    "name": "ipython",
    "version": 3
   },
   "file_extension": ".py",
   "mimetype": "text/x-python",
   "name": "python",
   "nbconvert_exporter": "python",
   "pygments_lexer": "ipython3",
   "version": "3.7.1"
  }
 },
 "nbformat": 4,
 "nbformat_minor": 2
}
